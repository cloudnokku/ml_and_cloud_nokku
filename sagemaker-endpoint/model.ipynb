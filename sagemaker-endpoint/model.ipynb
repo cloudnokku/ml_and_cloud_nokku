{
 "cells": [
  {
   "cell_type": "code",
   "execution_count": 1,
   "metadata": {},
   "outputs": [
    {
     "name": "stdout",
     "output_type": "stream",
     "text": [
      "Requirement already satisfied: torch==2.0.1 in /home/prudhvinokku/ml-cloud-nokku/.venv/lib/python3.8/site-packages (from -r model_notebook_requirements.txt (line 1)) (2.0.1)\n",
      "Requirement already satisfied: transformers==4.31.0 in /home/prudhvinokku/ml-cloud-nokku/.venv/lib/python3.8/site-packages (from -r model_notebook_requirements.txt (line 2)) (4.31.0)\n",
      "Requirement already satisfied: filelock in /home/prudhvinokku/ml-cloud-nokku/.venv/lib/python3.8/site-packages (from torch==2.0.1->-r model_notebook_requirements.txt (line 1)) (3.12.2)\n",
      "Requirement already satisfied: nvidia-nccl-cu11==2.14.3; platform_system == \"Linux\" and platform_machine == \"x86_64\" in /home/prudhvinokku/ml-cloud-nokku/.venv/lib/python3.8/site-packages (from torch==2.0.1->-r model_notebook_requirements.txt (line 1)) (2.14.3)\n",
      "Requirement already satisfied: nvidia-cuda-cupti-cu11==11.7.101; platform_system == \"Linux\" and platform_machine == \"x86_64\" in /home/prudhvinokku/ml-cloud-nokku/.venv/lib/python3.8/site-packages (from torch==2.0.1->-r model_notebook_requirements.txt (line 1)) (11.7.101)\n",
      "Requirement already satisfied: nvidia-cusparse-cu11==11.7.4.91; platform_system == \"Linux\" and platform_machine == \"x86_64\" in /home/prudhvinokku/ml-cloud-nokku/.venv/lib/python3.8/site-packages (from torch==2.0.1->-r model_notebook_requirements.txt (line 1)) (11.7.4.91)\n",
      "Requirement already satisfied: typing-extensions in /home/prudhvinokku/ml-cloud-nokku/.venv/lib/python3.8/site-packages (from torch==2.0.1->-r model_notebook_requirements.txt (line 1)) (4.7.1)\n",
      "Requirement already satisfied: nvidia-cuda-runtime-cu11==11.7.99; platform_system == \"Linux\" and platform_machine == \"x86_64\" in /home/prudhvinokku/ml-cloud-nokku/.venv/lib/python3.8/site-packages (from torch==2.0.1->-r model_notebook_requirements.txt (line 1)) (11.7.99)\n",
      "Requirement already satisfied: nvidia-curand-cu11==10.2.10.91; platform_system == \"Linux\" and platform_machine == \"x86_64\" in /home/prudhvinokku/ml-cloud-nokku/.venv/lib/python3.8/site-packages (from torch==2.0.1->-r model_notebook_requirements.txt (line 1)) (10.2.10.91)\n",
      "Requirement already satisfied: nvidia-nvtx-cu11==11.7.91; platform_system == \"Linux\" and platform_machine == \"x86_64\" in /home/prudhvinokku/ml-cloud-nokku/.venv/lib/python3.8/site-packages (from torch==2.0.1->-r model_notebook_requirements.txt (line 1)) (11.7.91)\n",
      "Requirement already satisfied: triton==2.0.0; platform_system == \"Linux\" and platform_machine == \"x86_64\" in /home/prudhvinokku/ml-cloud-nokku/.venv/lib/python3.8/site-packages (from torch==2.0.1->-r model_notebook_requirements.txt (line 1)) (2.0.0)\n",
      "Requirement already satisfied: nvidia-cuda-nvrtc-cu11==11.7.99; platform_system == \"Linux\" and platform_machine == \"x86_64\" in /home/prudhvinokku/ml-cloud-nokku/.venv/lib/python3.8/site-packages (from torch==2.0.1->-r model_notebook_requirements.txt (line 1)) (11.7.99)\n",
      "Requirement already satisfied: networkx in /home/prudhvinokku/ml-cloud-nokku/.venv/lib/python3.8/site-packages (from torch==2.0.1->-r model_notebook_requirements.txt (line 1)) (3.1)\n",
      "Requirement already satisfied: sympy in /home/prudhvinokku/ml-cloud-nokku/.venv/lib/python3.8/site-packages (from torch==2.0.1->-r model_notebook_requirements.txt (line 1)) (1.12)\n",
      "Requirement already satisfied: nvidia-cufft-cu11==10.9.0.58; platform_system == \"Linux\" and platform_machine == \"x86_64\" in /home/prudhvinokku/ml-cloud-nokku/.venv/lib/python3.8/site-packages (from torch==2.0.1->-r model_notebook_requirements.txt (line 1)) (10.9.0.58)\n",
      "Requirement already satisfied: nvidia-cublas-cu11==11.10.3.66; platform_system == \"Linux\" and platform_machine == \"x86_64\" in /home/prudhvinokku/ml-cloud-nokku/.venv/lib/python3.8/site-packages (from torch==2.0.1->-r model_notebook_requirements.txt (line 1)) (11.10.3.66)\n",
      "Requirement already satisfied: jinja2 in /home/prudhvinokku/ml-cloud-nokku/.venv/lib/python3.8/site-packages (from torch==2.0.1->-r model_notebook_requirements.txt (line 1)) (3.1.2)\n",
      "Requirement already satisfied: nvidia-cudnn-cu11==8.5.0.96; platform_system == \"Linux\" and platform_machine == \"x86_64\" in /home/prudhvinokku/ml-cloud-nokku/.venv/lib/python3.8/site-packages (from torch==2.0.1->-r model_notebook_requirements.txt (line 1)) (8.5.0.96)\n",
      "Requirement already satisfied: nvidia-cusolver-cu11==11.4.0.1; platform_system == \"Linux\" and platform_machine == \"x86_64\" in /home/prudhvinokku/ml-cloud-nokku/.venv/lib/python3.8/site-packages (from torch==2.0.1->-r model_notebook_requirements.txt (line 1)) (11.4.0.1)\n",
      "Requirement already satisfied: tokenizers!=0.11.3,<0.14,>=0.11.1 in /home/prudhvinokku/ml-cloud-nokku/.venv/lib/python3.8/site-packages (from transformers==4.31.0->-r model_notebook_requirements.txt (line 2)) (0.13.3)\n",
      "Requirement already satisfied: requests in /home/prudhvinokku/ml-cloud-nokku/.venv/lib/python3.8/site-packages (from transformers==4.31.0->-r model_notebook_requirements.txt (line 2)) (2.31.0)\n",
      "Requirement already satisfied: packaging>=20.0 in /home/prudhvinokku/ml-cloud-nokku/.venv/lib/python3.8/site-packages (from transformers==4.31.0->-r model_notebook_requirements.txt (line 2)) (23.1)\n",
      "Requirement already satisfied: pyyaml>=5.1 in /home/prudhvinokku/ml-cloud-nokku/.venv/lib/python3.8/site-packages (from transformers==4.31.0->-r model_notebook_requirements.txt (line 2)) (6.0.1)\n",
      "Requirement already satisfied: regex!=2019.12.17 in /home/prudhvinokku/ml-cloud-nokku/.venv/lib/python3.8/site-packages (from transformers==4.31.0->-r model_notebook_requirements.txt (line 2)) (2023.6.3)\n",
      "Requirement already satisfied: safetensors>=0.3.1 in /home/prudhvinokku/ml-cloud-nokku/.venv/lib/python3.8/site-packages (from transformers==4.31.0->-r model_notebook_requirements.txt (line 2)) (0.3.1)\n",
      "Requirement already satisfied: tqdm>=4.27 in /home/prudhvinokku/ml-cloud-nokku/.venv/lib/python3.8/site-packages (from transformers==4.31.0->-r model_notebook_requirements.txt (line 2)) (4.65.0)\n",
      "Requirement already satisfied: numpy>=1.17 in /home/prudhvinokku/ml-cloud-nokku/.venv/lib/python3.8/site-packages (from transformers==4.31.0->-r model_notebook_requirements.txt (line 2)) (1.24.4)\n",
      "Requirement already satisfied: huggingface-hub<1.0,>=0.14.1 in /home/prudhvinokku/ml-cloud-nokku/.venv/lib/python3.8/site-packages (from transformers==4.31.0->-r model_notebook_requirements.txt (line 2)) (0.16.4)\n",
      "Requirement already satisfied: wheel in /home/prudhvinokku/ml-cloud-nokku/.venv/lib/python3.8/site-packages (from nvidia-cuda-cupti-cu11==11.7.101; platform_system == \"Linux\" and platform_machine == \"x86_64\"->torch==2.0.1->-r model_notebook_requirements.txt (line 1)) (0.41.0)\n",
      "Requirement already satisfied: setuptools in /home/prudhvinokku/ml-cloud-nokku/.venv/lib/python3.8/site-packages (from nvidia-cuda-cupti-cu11==11.7.101; platform_system == \"Linux\" and platform_machine == \"x86_64\"->torch==2.0.1->-r model_notebook_requirements.txt (line 1)) (44.0.0)\n",
      "Requirement already satisfied: lit in /home/prudhvinokku/ml-cloud-nokku/.venv/lib/python3.8/site-packages (from triton==2.0.0; platform_system == \"Linux\" and platform_machine == \"x86_64\"->torch==2.0.1->-r model_notebook_requirements.txt (line 1)) (16.0.6)\n",
      "Requirement already satisfied: cmake in /home/prudhvinokku/ml-cloud-nokku/.venv/lib/python3.8/site-packages (from triton==2.0.0; platform_system == \"Linux\" and platform_machine == \"x86_64\"->torch==2.0.1->-r model_notebook_requirements.txt (line 1)) (3.27.0)\n",
      "Requirement already satisfied: mpmath>=0.19 in /home/prudhvinokku/ml-cloud-nokku/.venv/lib/python3.8/site-packages (from sympy->torch==2.0.1->-r model_notebook_requirements.txt (line 1)) (1.3.0)\n",
      "Requirement already satisfied: MarkupSafe>=2.0 in /home/prudhvinokku/ml-cloud-nokku/.venv/lib/python3.8/site-packages (from jinja2->torch==2.0.1->-r model_notebook_requirements.txt (line 1)) (2.1.3)\n",
      "Requirement already satisfied: idna<4,>=2.5 in /home/prudhvinokku/ml-cloud-nokku/.venv/lib/python3.8/site-packages (from requests->transformers==4.31.0->-r model_notebook_requirements.txt (line 2)) (3.4)\n",
      "Requirement already satisfied: urllib3<3,>=1.21.1 in /home/prudhvinokku/ml-cloud-nokku/.venv/lib/python3.8/site-packages (from requests->transformers==4.31.0->-r model_notebook_requirements.txt (line 2)) (2.0.3)\n",
      "Requirement already satisfied: charset-normalizer<4,>=2 in /home/prudhvinokku/ml-cloud-nokku/.venv/lib/python3.8/site-packages (from requests->transformers==4.31.0->-r model_notebook_requirements.txt (line 2)) (3.2.0)\n",
      "Requirement already satisfied: certifi>=2017.4.17 in /home/prudhvinokku/ml-cloud-nokku/.venv/lib/python3.8/site-packages (from requests->transformers==4.31.0->-r model_notebook_requirements.txt (line 2)) (2023.5.7)\n",
      "Requirement already satisfied: fsspec in /home/prudhvinokku/ml-cloud-nokku/.venv/lib/python3.8/site-packages (from huggingface-hub<1.0,>=0.14.1->transformers==4.31.0->-r model_notebook_requirements.txt (line 2)) (2023.6.0)\n"
     ]
    }
   ],
   "source": [
    "!pip install -r model_notebook_requirements.txt"
   ]
  },
  {
   "cell_type": "code",
   "execution_count": 2,
   "metadata": {},
   "outputs": [
    {
     "name": "stdout",
     "output_type": "stream",
     "text": [
      "4.31.0\n"
     ]
    }
   ],
   "source": [
    "import transformers\n",
    "print(transformers.__version__)"
   ]
  },
  {
   "cell_type": "code",
   "execution_count": 3,
   "metadata": {},
   "outputs": [
    {
     "name": "stdout",
     "output_type": "stream",
     "text": [
      "2.0.1+cu117\n"
     ]
    }
   ],
   "source": [
    "import torch\n",
    "print(torch.__version__)"
   ]
  },
  {
   "cell_type": "code",
   "execution_count": 4,
   "metadata": {},
   "outputs": [
    {
     "name": "stdout",
     "output_type": "stream",
     "text": [
      "1.3G\t/home/prudhvinokku/ml-cloud-nokku/.venv/lib/python3.8/site-packages/torch\n",
      "184M\t/home/prudhvinokku/ml-cloud-nokku/.venv/lib/python3.8/site-packages/triton\n",
      "72M\t/home/prudhvinokku/ml-cloud-nokku/.venv/lib/python3.8/site-packages/cmake\n",
      "62M\t/home/prudhvinokku/ml-cloud-nokku/.venv/lib/python3.8/site-packages/transformers\n",
      "62M\t/home/prudhvinokku/ml-cloud-nokku/.venv/lib/python3.8/site-packages/pandas\n",
      "52M\t/home/prudhvinokku/ml-cloud-nokku/.venv/lib/python3.8/site-packages/sympy\n",
      "35M\t/home/prudhvinokku/ml-cloud-nokku/.venv/lib/python3.8/site-packages/numpy\n",
      "34M\t/home/prudhvinokku/ml-cloud-nokku/.venv/lib/python3.8/site-packages/babel\n",
      "19M\t/home/prudhvinokku/ml-cloud-nokku/.venv/lib/python3.8/site-packages/debugpy\n",
      "18M\t/home/prudhvinokku/ml-cloud-nokku/.venv/lib/python3.8/site-packages/tokenizers\n",
      "16M\t/home/prudhvinokku/ml-cloud-nokku/.venv/lib/python3.8/site-packages/jupyterlab\n",
      "14M\t/home/prudhvinokku/ml-cloud-nokku/.venv/lib/python3.8/site-packages/networkx\n",
      "12M\t/home/prudhvinokku/ml-cloud-nokku/.venv/lib/python3.8/site-packages/notebook\n",
      "11M\t/home/prudhvinokku/ml-cloud-nokku/.venv/lib/python3.8/site-packages/jedi\n",
      "8.0M\t/home/prudhvinokku/ml-cloud-nokku/.venv/lib/python3.8/site-packages/pygments\n",
      "4.9M\t/home/prudhvinokku/ml-cloud-nokku/.venv/lib/python3.8/site-packages/widgetsnbextension\n",
      "4.9M\t/home/prudhvinokku/ml-cloud-nokku/.venv/lib/python3.8/site-packages/safetensors\n",
      "4.5M\t/home/prudhvinokku/ml-cloud-nokku/.venv/lib/python3.8/site-packages/aiohttp\n",
      "3.9M\t/home/prudhvinokku/ml-cloud-nokku/.venv/lib/python3.8/site-packages/mpmath\n",
      "3.3M\t/home/prudhvinokku/ml-cloud-nokku/.venv/lib/python3.8/site-packages/tornado\n",
      "3.1M\t/home/prudhvinokku/ml-cloud-nokku/.venv/lib/python3.8/site-packages/regex\n",
      "2.8M\t/home/prudhvinokku/ml-cloud-nokku/.venv/lib/python3.8/site-packages/tzdata\n",
      "2.8M\t/home/prudhvinokku/ml-cloud-nokku/.venv/lib/python3.8/site-packages/pytz\n",
      "2.6M\t/home/prudhvinokku/ml-cloud-nokku/.venv/lib/python3.8/site-packages/openpyxl\n",
      "2.3M\t/home/prudhvinokku/ml-cloud-nokku/.venv/lib/python3.8/site-packages/setuptools\n",
      "2.0M\t/home/prudhvinokku/ml-cloud-nokku/.venv/lib/python3.8/site-packages/pip\n",
      "1.8M\t/home/prudhvinokku/ml-cloud-nokku/.venv/lib/python3.8/site-packages/psutil\n",
      "1.3M\t/home/prudhvinokku/ml-cloud-nokku/.venv/lib/python3.8/site-packages/fsspec\n",
      "1.3M\t/home/prudhvinokku/ml-cloud-nokku/.venv/lib/python3.8/site-packages/bleach\n",
      "1.2M\t/home/prudhvinokku/ml-cloud-nokku/.venv/lib/python3.8/site-packages/qtpy\n",
      "1.2M\t/home/prudhvinokku/ml-cloud-nokku/.venv/lib/python3.8/site-packages/pandas-stubs\n",
      "1.2M\t/home/prudhvinokku/ml-cloud-nokku/.venv/lib/python3.8/site-packages/ipykernel\n",
      "1.1M\t/home/prudhvinokku/ml-cloud-nokku/.venv/lib/python3.8/site-packages/traitlets\n",
      "1.1M\t/home/prudhvinokku/ml-cloud-nokku/.venv/lib/python3.8/site-packages/pycparser\n",
      "1008K\t/home/prudhvinokku/ml-cloud-nokku/.venv/lib/python3.8/site-packages/ipywidgets\n",
      "984K\t/home/prudhvinokku/ml-cloud-nokku/.venv/lib/python3.8/site-packages/jinja2\n",
      "964K\t/home/prudhvinokku/ml-cloud-nokku/.venv/lib/python3.8/site-packages/qtconsole\n",
      "944K\t/home/prudhvinokku/ml-cloud-nokku/.venv/lib/python3.8/site-packages/yarl\n",
      "904K\t/home/prudhvinokku/ml-cloud-nokku/.venv/lib/python3.8/site-packages/nbconvert\n",
      "848K\t/home/prudhvinokku/ml-cloud-nokku/.venv/lib/python3.8/site-packages/jsonschema\n",
      "832K\t/home/prudhvinokku/ml-cloud-nokku/.venv/lib/python3.8/site-packages/urllib3\n",
      "764K\t/home/prudhvinokku/ml-cloud-nokku/.venv/lib/python3.8/site-packages/anyio\n",
      "752K\t/home/prudhvinokku/ml-cloud-nokku/.venv/lib/python3.8/site-packages/openai\n",
      "732K\t/home/prudhvinokku/ml-cloud-nokku/.venv/lib/python3.8/site-packages/frozenlist\n",
      "692K\t/home/prudhvinokku/ml-cloud-nokku/.venv/lib/python3.8/site-packages/cffi\n",
      "660K\t/home/prudhvinokku/ml-cloud-nokku/.venv/lib/python3.8/site-packages/nbformat\n",
      "648K\t/home/prudhvinokku/ml-cloud-nokku/.venv/lib/python3.8/site-packages/lit\n",
      "640K\t/home/prudhvinokku/ml-cloud-nokku/.venv/lib/python3.8/site-packages/parso\n",
      "532K\t/home/prudhvinokku/ml-cloud-nokku/.venv/lib/python3.8/site-packages/idna\n",
      "504K\t/home/prudhvinokku/ml-cloud-nokku/.venv/lib/python3.8/site-packages/wheel\n",
      "500K\t/home/prudhvinokku/ml-cloud-nokku/.venv/lib/python3.8/site-packages/wcwidth\n",
      "476K\t/home/prudhvinokku/ml-cloud-nokku/.venv/lib/python3.8/site-packages/tqdm\n",
      "472K\t/home/prudhvinokku/ml-cloud-nokku/.venv/lib/python3.8/site-packages/nbclient\n",
      "464K\t/home/prudhvinokku/ml-cloud-nokku/.venv/lib/python3.8/site-packages/multidict\n",
      "428K\t/home/prudhvinokku/ml-cloud-nokku/.venv/lib/python3.8/site-packages/mistune\n",
      "404K\t/home/prudhvinokku/ml-cloud-nokku/.venv/lib/python3.8/site-packages/requests\n",
      "388K\t/home/prudhvinokku/ml-cloud-nokku/.venv/lib/python3.8/site-packages/pexpect\n",
      "312K\t/home/prudhvinokku/ml-cloud-nokku/.venv/lib/python3.8/site-packages/certifi\n",
      "308K\t/home/prudhvinokku/ml-cloud-nokku/.venv/lib/python3.8/site-packages/packaging\n",
      "268K\t/home/prudhvinokku/ml-cloud-nokku/.venv/lib/python3.8/site-packages/referencing\n",
      "260K\t/home/prudhvinokku/ml-cloud-nokku/.venv/lib/python3.8/site-packages/soupsieve\n",
      "192K\t/home/prudhvinokku/ml-cloud-nokku/.venv/lib/python3.8/site-packages/fastjsonschema\n",
      "188K\t/home/prudhvinokku/ml-cloud-nokku/.venv/lib/python3.8/site-packages/tinycss2\n",
      "180K\t/home/prudhvinokku/ml-cloud-nokku/.venv/lib/python3.8/site-packages/json5\n",
      "164K\t/home/prudhvinokku/ml-cloud-nokku/.venv/lib/python3.8/site-packages/platformdirs\n",
      "152K\t/home/prudhvinokku/ml-cloud-nokku/.venv/lib/python3.8/site-packages/executing\n",
      "148K\t/home/prudhvinokku/ml-cloud-nokku/.venv/lib/python3.8/site-packages/send2trash\n",
      "148K\t/home/prudhvinokku/ml-cloud-nokku/.venv/lib/python3.8/site-packages/asttokens\n",
      "128K\t/home/prudhvinokku/ml-cloud-nokku/.venv/lib/python3.8/site-packages/terminado\n",
      "120K\t/home/prudhvinokku/ml-cloud-nokku/.venv/lib/python3.8/site-packages/defusedxml\n",
      "100K\t/home/prudhvinokku/ml-cloud-nokku/.venv/lib/python3.8/site-packages/overrides\n",
      "96K\t/home/prudhvinokku/ml-cloud-nokku/.venv/lib/python3.8/site-packages/markupsafe\n",
      "88K\t/home/prudhvinokku/ml-cloud-nokku/.venv/lib/python3.8/site-packages/ptyprocess\n",
      "88K\t/home/prudhvinokku/ml-cloud-nokku/.venv/lib/python3.8/site-packages/filelock\n",
      "88K\t/home/prudhvinokku/ml-cloud-nokku/.venv/lib/python3.8/site-packages/exceptiongroup\n",
      "84K\t/home/prudhvinokku/ml-cloud-nokku/.venv/lib/python3.8/site-packages/webencodings\n",
      "80K\t/home/prudhvinokku/ml-cloud-nokku/.venv/lib/python3.8/site-packages/tomli\n",
      "76K\t/home/prudhvinokku/ml-cloud-nokku/.venv/lib/python3.8/site-packages/backcall\n",
      "60K\t/home/prudhvinokku/ml-cloud-nokku/.venv/lib/python3.8/site-packages/attrs\n",
      "52K\t/home/prudhvinokku/ml-cloud-nokku/.venv/lib/python3.8/site-packages/zipp\n",
      "52K\t/home/prudhvinokku/ml-cloud-nokku/.venv/lib/python3.8/site-packages/sniffio\n",
      "36K\t/home/prudhvinokku/ml-cloud-nokku/.venv/lib/python3.8/site-packages/comm\n",
      "20K\t/home/prudhvinokku/ml-cloud-nokku/.venv/lib/python3.8/site-packages/aiosignal\n"
     ]
    }
   ],
   "source": [
    "!pip list | tail -n +3 | awk '{print $1}' | xargs pip show | grep -E 'Location:|Name:' | cut -d ' ' -f 2 | paste -d ' ' - - | awk '{print $2 \"/\" tolower($1)}' | xargs du -sh 2> /dev/null | sort -hr"
   ]
  },
  {
   "cell_type": "code",
   "execution_count": null,
   "metadata": {},
   "outputs": [],
   "source": []
  },
  {
   "cell_type": "code",
   "execution_count": null,
   "metadata": {},
   "outputs": [],
   "source": [
    "https://huggingface.co/docs/transformers/generation_strategies"
   ]
  },
  {
   "cell_type": "code",
   "execution_count": 4,
   "metadata": {},
   "outputs": [
    {
     "name": "stdout",
     "output_type": "stream",
     "text": [
      "config.json\t\tmerges.txt\t   tokenizer.json\n",
      "generation_config.json\tmodel.safetensors  vocab.json\n"
     ]
    }
   ],
   "source": []
  },
  {
   "cell_type": "code",
   "execution_count": 15,
   "metadata": {},
   "outputs": [
    {
     "name": "stdout",
     "output_type": "stream",
     "text": [
      "input_ids: tensor([[13959,  1566,    12,  2968,    10,   571,   625,    33,    25,   230,\n",
      "            58,     1]])\n"
     ]
    },
    {
     "name": "stderr",
     "output_type": "stream",
     "text": [
      "/home/prudhvinokku/ml-cloud-nokku/.venv/lib/python3.8/site-packages/transformers/generation/utils.py:1369: UserWarning: Using `max_length`'s default (20) to control the generation length. This behaviour is deprecated and will be removed from the config in v5 of Transformers -- we recommend using `max_new_tokens` to control the maximum length of the generation.\n",
      "  warnings.warn(\n"
     ]
    },
    {
     "name": "stdout",
     "output_type": "stream",
     "text": [
      "<pad> Wie ich stört?</s>\n"
     ]
    }
   ],
   "source": [
    "# pip install accelerate\n",
    "from transformers import T5Tokenizer, T5ForConditionalGeneration\n",
    "\n",
    "tokenizer = T5Tokenizer.from_pretrained(\"google/flan-t5-small\")\n",
    "model = T5ForConditionalGeneration.from_pretrained(\"google/flan-t5-small\") #, device_map=\"auto\")\n",
    "\n",
    "input_text = \"translate English to German: How old are you now?\"\n",
    "input_ids = tokenizer(input_text, return_tensors=\"pt\").input_ids#.to(\"cuda\")\n",
    "print(f\"input_ids: {input_ids}\")\n",
    "\n",
    "outputs = model.generate(input_ids)\n",
    "print(tokenizer.decode(outputs[0]))"
   ]
  },
  {
   "cell_type": "code",
   "execution_count": 13,
   "metadata": {},
   "outputs": [
    {
     "name": "stdout",
     "output_type": "stream",
     "text": [
      "huggingface/tokenizers: The current process just got forked, after parallelism has already been used. Disabling parallelism to avoid deadlocks...\n",
      "To disable this warning, you can either:\n",
      "\t- Avoid using `tokenizers` before the fork if possible\n",
      "\t- Explicitly set the environment variable TOKENIZERS_PARALLELISM=(true | false)\n",
      "config.json\t\tpytorch_model.bin\t spiece.model\n",
      "generation_config.json\tspecial_tokens_map.json  tokenizer_config.json\n"
     ]
    }
   ],
   "source": [
    "!ls ~/.cache/huggingface/hub/models--google--flan-t5-small/snapshots/2d036ee774a9cb8d7e03c9f2e78ae0a16343a9d9/"
   ]
  },
  {
   "cell_type": "markdown",
   "metadata": {},
   "source": [
    "#### Download model locally"
   ]
  },
  {
   "cell_type": "code",
   "execution_count": 8,
   "metadata": {},
   "outputs": [
    {
     "data": {
      "application/vnd.jupyter.widget-view+json": {
       "model_id": "6fd5466a4f214451bcd6820b302973c1",
       "version_major": 2,
       "version_minor": 0
      },
      "text/plain": [
       "Downloading spiece.model:   0%|          | 0.00/792k [00:00<?, ?B/s]"
      ]
     },
     "metadata": {},
     "output_type": "display_data"
    },
    {
     "data": {
      "application/vnd.jupyter.widget-view+json": {
       "model_id": "2f2c7036711741008aea84875a8b2095",
       "version_major": 2,
       "version_minor": 0
      },
      "text/plain": [
       "Downloading (…)cial_tokens_map.json:   0%|          | 0.00/2.20k [00:00<?, ?B/s]"
      ]
     },
     "metadata": {},
     "output_type": "display_data"
    },
    {
     "data": {
      "application/vnd.jupyter.widget-view+json": {
       "model_id": "375e896e824d495cafea1c2f241b40dd",
       "version_major": 2,
       "version_minor": 0
      },
      "text/plain": [
       "Downloading (…)okenizer_config.json:   0%|          | 0.00/2.54k [00:00<?, ?B/s]"
      ]
     },
     "metadata": {},
     "output_type": "display_data"
    },
    {
     "data": {
      "application/vnd.jupyter.widget-view+json": {
       "model_id": "2d9b0bce3cee4cfa83dff8f8aafbae66",
       "version_major": 2,
       "version_minor": 0
      },
      "text/plain": [
       "Downloading (…)lve/main/config.json:   0%|          | 0.00/1.40k [00:00<?, ?B/s]"
      ]
     },
     "metadata": {},
     "output_type": "display_data"
    },
    {
     "data": {
      "application/vnd.jupyter.widget-view+json": {
       "model_id": "9b08b9dc383447c59b06c440615c7826",
       "version_major": 2,
       "version_minor": 0
      },
      "text/plain": [
       "Downloading pytorch_model.bin:   0%|          | 0.00/308M [00:00<?, ?B/s]"
      ]
     },
     "metadata": {},
     "output_type": "display_data"
    },
    {
     "data": {
      "application/vnd.jupyter.widget-view+json": {
       "model_id": "c158128a16484398bfecfd8e095a3341",
       "version_major": 2,
       "version_minor": 0
      },
      "text/plain": [
       "Downloading (…)neration_config.json:   0%|          | 0.00/147 [00:00<?, ?B/s]"
      ]
     },
     "metadata": {},
     "output_type": "display_data"
    },
    {
     "name": "stderr",
     "output_type": "stream",
     "text": [
      "/home/prudhvinokku/ml-cloud-nokku/.venv/lib/python3.8/site-packages/transformers/generation/utils.py:1369: UserWarning: Using `max_length`'s default (20) to control the generation length. This behaviour is deprecated and will be removed from the config in v5 of Transformers -- we recommend using `max_new_tokens` to control the maximum length of the generation.\n",
      "  warnings.warn(\n"
     ]
    },
    {
     "name": "stdout",
     "output_type": "stream",
     "text": [
      "<pad> Wie ich er bitten?</s>\n"
     ]
    }
   ],
   "source": [
    "\n",
    "from transformers import T5Tokenizer, T5ForConditionalGeneration\n",
    "\n",
    "local_cache_dir_tokenizer = \"./models_from_huggingface/tokenizer/\" \n",
    "local_cache_dir_model = \"./models_from_huggingface/models/\" \n",
    "\n",
    "tokenizer = T5Tokenizer.from_pretrained(\"google/flan-t5-small\",cache_dir=local_cache_dir_tokenizer)\n",
    "model = T5ForConditionalGeneration.from_pretrained(\"google/flan-t5-small\",cache_dir=local_cache_dir_model)\n",
    "\n",
    "input_text = \"translate English to German: How old are you?\"\n",
    "input_ids = tokenizer(input_text, return_tensors=\"pt\").input_ids\n",
    "\n",
    "outputs = model.generate(input_ids)\n",
    "print(tokenizer.decode(outputs[0]))"
   ]
  },
  {
   "cell_type": "code",
   "execution_count": null,
   "metadata": {},
   "outputs": [],
   "source": []
  },
  {
   "cell_type": "markdown",
   "metadata": {},
   "source": [
    "#### Download models from pytorch hub"
   ]
  },
  {
   "cell_type": "code",
   "execution_count": null,
   "metadata": {},
   "outputs": [],
   "source": [
    "#Other ways\n",
    "# https://pytorch.org/hub/\n",
    "'''\n",
    "import torch\n",
    "model_name = \"pytorch/vision:v0.10.0\"  # Replace this with the specific model you want to download\n",
    "model = torch.hub.load(model_name, \"resnet50\", pretrained=True)\n",
    "\n",
    "\n",
    "# Assuming you have an input image tensor 'input_image'\n",
    "with torch.no_grad():\n",
    "    model.eval()\n",
    "    output = model(input_image)\n",
    "\n",
    "'''\n",
    "\n"
   ]
  }
 ],
 "metadata": {
  "kernelspec": {
   "display_name": "Python (myenv)",
   "language": "python",
   "name": "myenv"
  },
  "language_info": {
   "codemirror_mode": {
    "name": "ipython",
    "version": 3
   },
   "file_extension": ".py",
   "mimetype": "text/x-python",
   "name": "python",
   "nbconvert_exporter": "python",
   "pygments_lexer": "ipython3",
   "version": "3.8.10"
  },
  "orig_nbformat": 4
 },
 "nbformat": 4,
 "nbformat_minor": 2
}
