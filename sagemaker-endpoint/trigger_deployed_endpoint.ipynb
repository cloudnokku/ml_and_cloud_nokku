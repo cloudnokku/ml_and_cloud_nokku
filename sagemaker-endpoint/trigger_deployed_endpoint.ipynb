{
 "cells": [
  {
   "cell_type": "code",
   "execution_count": null,
   "metadata": {},
   "outputs": [],
   "source": [
    "!pip install -r trigger_deployed_endpoint_requirements.txt"
   ]
  },
  {
   "cell_type": "code",
   "execution_count": 2,
   "metadata": {},
   "outputs": [
    {
     "data": {
      "text/plain": [
       "'1.28.17'"
      ]
     },
     "execution_count": 2,
     "metadata": {},
     "output_type": "execute_result"
    }
   ],
   "source": [
    "import boto3\n",
    "boto3.__version__"
   ]
  },
  {
   "cell_type": "code",
   "execution_count": 3,
   "metadata": {},
   "outputs": [
    {
     "data": {
      "text/plain": [
       "'2.173.0'"
      ]
     },
     "execution_count": 3,
     "metadata": {},
     "output_type": "execute_result"
    }
   ],
   "source": [
    "import sagemaker \n",
    "sagemaker.__version__"
   ]
  },
  {
   "cell_type": "code",
   "execution_count": 2,
   "metadata": {},
   "outputs": [],
   "source": [
    "endpoint_name=\"huggingface-pytorch-tgi-inference-2023-08-03-03-37-47-976\"\n",
    "region = 'us-east-1'\n"
   ]
  },
  {
   "cell_type": "markdown",
   "metadata": {},
   "source": [
    "#### Trigger endpoint using boto3 (same code can be used in lambda/other services when you want to create an api for your project or so)"
   ]
  },
  {
   "cell_type": "code",
   "execution_count": 4,
   "metadata": {},
   "outputs": [
    {
     "name": "stdout",
     "output_type": "stream",
     "text": [
      "Prediction: [{'generated_text': 'United States of America'}]\n"
     ]
    }
   ],
   "source": [
    "import boto3\n",
    "import json\n",
    "\n",
    "runtime_client = boto3.client('sagemaker-runtime', region_name=region)\n",
    "\n",
    "\n",
    "# Prepare the input data for the endpoint.\n",
    "input_data = {\n",
    "\t\"inputs\": \"what is USA?\",\n",
    "}\n",
    "\n",
    "# Convert the input data to JSON format.\n",
    "payload = json.dumps(input_data)\n",
    "\n",
    "# Invoke the endpoint.\n",
    "response = runtime_client.invoke_endpoint(\n",
    "    EndpointName=endpoint_name,\n",
    "    ContentType='application/json',\n",
    "    Body=payload\n",
    ")\n",
    "\n",
    "# Process the response.\n",
    "if response['ResponseMetadata']['HTTPStatusCode'] == 200:\n",
    "    result = json.loads(response['Body'].read())\n",
    "    # Process the result as per your requirement\n",
    "    print(\"Prediction:\", result)\n",
    "else:\n",
    "    print(\"Endpoint invocation failed with status code:\", response['ResponseMetadata']['HTTPStatusCode'])\n"
   ]
  },
  {
   "cell_type": "code",
   "execution_count": null,
   "metadata": {},
   "outputs": [],
   "source": []
  },
  {
   "cell_type": "markdown",
   "metadata": {},
   "source": [
    "#### Trigger endpoint using sagemaker instead of boto3"
   ]
  },
  {
   "cell_type": "code",
   "execution_count": 18,
   "metadata": {},
   "outputs": [
    {
     "name": "stdout",
     "output_type": "stream",
     "text": [
      "Prediction: [{'generated_text': 'Meine Namen ist Arthur.'}]\n"
     ]
    }
   ],
   "source": [
    "import sagemaker\n",
    "from sagemaker.predictor import Predictor\n",
    "import json\n",
    "from sagemaker.serializers import JSONSerializer\n",
    "\n",
    "sagemaker_session = sagemaker.Session()\n",
    "\n",
    "\n",
    "\n",
    "# Prepare the input data for the endpoint.\n",
    "input_data = {\n",
    "\t\"inputs\": \"Translate to German:  My name is Arthur\",\n",
    "}\n",
    "\n",
    "# Create a Predictor.\n",
    "predictor = Predictor(endpoint_name, sagemaker_session,serializer=JSONSerializer(content_type='application/json'))\n",
    "\n",
    "# Invoke the endpoint.\n",
    "result = predictor.predict(input_data)\n",
    "\n",
    "# Process the result.\n",
    "result = json.loads(result)\n",
    "print(\"Prediction:\", result)\n"
   ]
  },
  {
   "cell_type": "code",
   "execution_count": null,
   "metadata": {},
   "outputs": [],
   "source": []
  }
 ],
 "metadata": {
  "kernelspec": {
   "display_name": "Python (myenv)",
   "language": "python",
   "name": "myenv"
  },
  "language_info": {
   "codemirror_mode": {
    "name": "ipython",
    "version": 3
   },
   "file_extension": ".py",
   "mimetype": "text/x-python",
   "name": "python",
   "nbconvert_exporter": "python",
   "pygments_lexer": "ipython3",
   "version": "3.8.10"
  },
  "orig_nbformat": 4
 },
 "nbformat": 4,
 "nbformat_minor": 2
}
